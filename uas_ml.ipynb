{
 "cells": [
  {
   "cell_type": "code",
   "execution_count": 5,
   "id": "a901cdc3",
   "metadata": {},
   "outputs": [],
   "source": [
    "import pandas as pd\n",
    "import matplotlib.pyplot as plt\n",
    "import numpy as np\n",
    "import seaborn as sns\n",
    "from sklearn.linear_model import LinearRegression\n",
    "from sklearn.model_selection import train_test_split"
   ]
  },
  {
   "cell_type": "markdown",
   "id": "b88ab2d2",
   "metadata": {},
   "source": [
    "### Memasukan Dataset"
   ]
  },
  {
   "cell_type": "code",
   "execution_count": 6,
   "id": "18f1825b",
   "metadata": {},
   "outputs": [
    {
     "data": {
      "text/html": [
       "<div>\n",
       "<style scoped>\n",
       "    .dataframe tbody tr th:only-of-type {\n",
       "        vertical-align: middle;\n",
       "    }\n",
       "\n",
       "    .dataframe tbody tr th {\n",
       "        vertical-align: top;\n",
       "    }\n",
       "\n",
       "    .dataframe thead th {\n",
       "        text-align: right;\n",
       "    }\n",
       "</style>\n",
       "<table border=\"1\" class=\"dataframe\">\n",
       "  <thead>\n",
       "    <tr style=\"text-align: right;\">\n",
       "      <th></th>\n",
       "      <th>Brand</th>\n",
       "      <th>Model</th>\n",
       "      <th>Color</th>\n",
       "      <th>Memory</th>\n",
       "      <th>Storage</th>\n",
       "      <th>Rating</th>\n",
       "      <th>Selling Price</th>\n",
       "      <th>Original Price</th>\n",
       "    </tr>\n",
       "  </thead>\n",
       "  <tbody>\n",
       "    <tr>\n",
       "      <th>0</th>\n",
       "      <td>OPPO</td>\n",
       "      <td>A53</td>\n",
       "      <td>Moonlight Black</td>\n",
       "      <td>4 GB</td>\n",
       "      <td>64 GB</td>\n",
       "      <td>4.5</td>\n",
       "      <td>11990</td>\n",
       "      <td>15990</td>\n",
       "    </tr>\n",
       "    <tr>\n",
       "      <th>1</th>\n",
       "      <td>OPPO</td>\n",
       "      <td>A53</td>\n",
       "      <td>Mint Cream</td>\n",
       "      <td>4 GB</td>\n",
       "      <td>64 GB</td>\n",
       "      <td>4.5</td>\n",
       "      <td>11990</td>\n",
       "      <td>15990</td>\n",
       "    </tr>\n",
       "    <tr>\n",
       "      <th>2</th>\n",
       "      <td>OPPO</td>\n",
       "      <td>A53</td>\n",
       "      <td>Moonlight Black</td>\n",
       "      <td>6 GB</td>\n",
       "      <td>128 GB</td>\n",
       "      <td>4.3</td>\n",
       "      <td>13990</td>\n",
       "      <td>17990</td>\n",
       "    </tr>\n",
       "    <tr>\n",
       "      <th>3</th>\n",
       "      <td>OPPO</td>\n",
       "      <td>A53</td>\n",
       "      <td>Mint Cream</td>\n",
       "      <td>6 GB</td>\n",
       "      <td>128 GB</td>\n",
       "      <td>4.3</td>\n",
       "      <td>13990</td>\n",
       "      <td>17990</td>\n",
       "    </tr>\n",
       "    <tr>\n",
       "      <th>4</th>\n",
       "      <td>OPPO</td>\n",
       "      <td>A53</td>\n",
       "      <td>Electric Black</td>\n",
       "      <td>4 GB</td>\n",
       "      <td>64 GB</td>\n",
       "      <td>4.5</td>\n",
       "      <td>11990</td>\n",
       "      <td>15990</td>\n",
       "    </tr>\n",
       "  </tbody>\n",
       "</table>\n",
       "</div>"
      ],
      "text/plain": [
       "  Brand Model            Color Memory Storage  Rating  Selling Price  \\\n",
       "0  OPPO   A53  Moonlight Black   4 GB   64 GB     4.5          11990   \n",
       "1  OPPO   A53       Mint Cream   4 GB   64 GB     4.5          11990   \n",
       "2  OPPO   A53  Moonlight Black   6 GB  128 GB     4.3          13990   \n",
       "3  OPPO   A53       Mint Cream   6 GB  128 GB     4.3          13990   \n",
       "4  OPPO   A53   Electric Black   4 GB   64 GB     4.5          11990   \n",
       "\n",
       "   Original Price  \n",
       "0           15990  \n",
       "1           15990  \n",
       "2           17990  \n",
       "3           17990  \n",
       "4           15990  "
      ]
     },
     "execution_count": 6,
     "metadata": {},
     "output_type": "execute_result"
    }
   ],
   "source": [
    "df = pd.read_csv('Flipkart_Mobiles.csv',encoding='latin1')\n",
    "df.head()"
   ]
  },
  {
   "cell_type": "code",
   "execution_count": 8,
   "id": "6cf84221",
   "metadata": {},
   "outputs": [
    {
     "data": {
      "text/plain": [
       "(3114, 8)"
      ]
     },
     "execution_count": 8,
     "metadata": {},
     "output_type": "execute_result"
    }
   ],
   "source": [
    "# melihat jumlah baris dan kolom\n",
    "df.shape"
   ]
  },
  {
   "cell_type": "code",
   "execution_count": 2,
   "id": "998a7d42",
   "metadata": {},
   "outputs": [
    {
     "ename": "NameError",
     "evalue": "name 'df' is not defined",
     "output_type": "error",
     "traceback": [
      "\u001b[1;31m---------------------------------------------------------------------------\u001b[0m",
      "\u001b[1;31mNameError\u001b[0m                                 Traceback (most recent call last)",
      "Input \u001b[1;32mIn [2]\u001b[0m, in \u001b[0;36m<cell line: 1>\u001b[1;34m()\u001b[0m\n\u001b[1;32m----> 1\u001b[0m \u001b[43mdf\u001b[49m\u001b[38;5;241m.\u001b[39mtail()\n",
      "\u001b[1;31mNameError\u001b[0m: name 'df' is not defined"
     ]
    }
   ],
   "source": [
    "df.tail()"
   ]
  },
  {
   "cell_type": "code",
   "execution_count": 9,
   "id": "5a1240ea",
   "metadata": {},
   "outputs": [
    {
     "name": "stdout",
     "output_type": "stream",
     "text": [
      "<class 'pandas.core.frame.DataFrame'>\n",
      "RangeIndex: 3114 entries, 0 to 3113\n",
      "Data columns (total 8 columns):\n",
      " #   Column          Non-Null Count  Dtype  \n",
      "---  ------          --------------  -----  \n",
      " 0   Brand           3114 non-null   object \n",
      " 1   Model           3114 non-null   object \n",
      " 2   Color           3114 non-null   object \n",
      " 3   Memory          3071 non-null   object \n",
      " 4   Storage         3075 non-null   object \n",
      " 5   Rating          2970 non-null   float64\n",
      " 6   Selling Price   3114 non-null   int64  \n",
      " 7   Original Price  3114 non-null   int64  \n",
      "dtypes: float64(1), int64(2), object(5)\n",
      "memory usage: 194.8+ KB\n"
     ]
    }
   ],
   "source": [
    "df.info()"
   ]
  },
  {
   "cell_type": "code",
   "execution_count": 10,
   "id": "390bb063",
   "metadata": {},
   "outputs": [],
   "source": [
    "df['Memory'] = df['Memory'].str.replace('GB','')"
   ]
  },
  {
   "cell_type": "code",
   "execution_count": 32,
   "id": "e672fa6c",
   "metadata": {},
   "outputs": [],
   "source": [
    "df['Storage'] = df['Storage'].str.replace('GB','')"
   ]
  },
  {
   "cell_type": "code",
   "execution_count": 40,
   "id": "51cbac01",
   "metadata": {},
   "outputs": [],
   "source": [
    "df['Storage'] = df['Storage'].str.replace('1 TB','1000')"
   ]
  },
  {
   "cell_type": "code",
   "execution_count": 38,
   "id": "00aaa5a3",
   "metadata": {},
   "outputs": [],
   "source": [
    "df['Storage'] = df['Storage'].str.replace('Expandable Upto','')"
   ]
  },
  {
   "cell_type": "code",
   "execution_count": 22,
   "id": "a88092db",
   "metadata": {},
   "outputs": [
    {
     "name": "stderr",
     "output_type": "stream",
     "text": [
      "C:\\Users\\agungadty\\AppData\\Local\\Temp\\ipykernel_5312\\1815835806.py:1: FutureWarning: The default value of regex will change from True to False in a future version.\n",
      "  df['Memory'] = df['Memory'].str.replace('1.5','2')\n"
     ]
    }
   ],
   "source": [
    "df['Memory'] = df['Memory'].str.replace('1.5','2')"
   ]
  },
  {
   "cell_type": "code",
   "execution_count": 23,
   "id": "92db60c0",
   "metadata": {},
   "outputs": [
    {
     "data": {
      "text/html": [
       "<div>\n",
       "<style scoped>\n",
       "    .dataframe tbody tr th:only-of-type {\n",
       "        vertical-align: middle;\n",
       "    }\n",
       "\n",
       "    .dataframe tbody tr th {\n",
       "        vertical-align: top;\n",
       "    }\n",
       "\n",
       "    .dataframe thead th {\n",
       "        text-align: right;\n",
       "    }\n",
       "</style>\n",
       "<table border=\"1\" class=\"dataframe\">\n",
       "  <thead>\n",
       "    <tr style=\"text-align: right;\">\n",
       "      <th></th>\n",
       "      <th>Brand</th>\n",
       "      <th>Model</th>\n",
       "      <th>Color</th>\n",
       "      <th>Memory</th>\n",
       "      <th>Storage</th>\n",
       "      <th>Rating</th>\n",
       "      <th>Selling Price</th>\n",
       "      <th>Original Price</th>\n",
       "    </tr>\n",
       "  </thead>\n",
       "  <tbody>\n",
       "    <tr>\n",
       "      <th>0</th>\n",
       "      <td>OPPO</td>\n",
       "      <td>A53</td>\n",
       "      <td>Moonlight Black</td>\n",
       "      <td>4</td>\n",
       "      <td>64 GB</td>\n",
       "      <td>4.5</td>\n",
       "      <td>11990</td>\n",
       "      <td>15990</td>\n",
       "    </tr>\n",
       "    <tr>\n",
       "      <th>1</th>\n",
       "      <td>OPPO</td>\n",
       "      <td>A53</td>\n",
       "      <td>Mint Cream</td>\n",
       "      <td>4</td>\n",
       "      <td>64 GB</td>\n",
       "      <td>4.5</td>\n",
       "      <td>11990</td>\n",
       "      <td>15990</td>\n",
       "    </tr>\n",
       "    <tr>\n",
       "      <th>2</th>\n",
       "      <td>OPPO</td>\n",
       "      <td>A53</td>\n",
       "      <td>Moonlight Black</td>\n",
       "      <td>6</td>\n",
       "      <td>128 GB</td>\n",
       "      <td>4.3</td>\n",
       "      <td>13990</td>\n",
       "      <td>17990</td>\n",
       "    </tr>\n",
       "    <tr>\n",
       "      <th>3</th>\n",
       "      <td>OPPO</td>\n",
       "      <td>A53</td>\n",
       "      <td>Mint Cream</td>\n",
       "      <td>6</td>\n",
       "      <td>128 GB</td>\n",
       "      <td>4.3</td>\n",
       "      <td>13990</td>\n",
       "      <td>17990</td>\n",
       "    </tr>\n",
       "    <tr>\n",
       "      <th>4</th>\n",
       "      <td>OPPO</td>\n",
       "      <td>A53</td>\n",
       "      <td>Electric Black</td>\n",
       "      <td>4</td>\n",
       "      <td>64 GB</td>\n",
       "      <td>4.5</td>\n",
       "      <td>11990</td>\n",
       "      <td>15990</td>\n",
       "    </tr>\n",
       "  </tbody>\n",
       "</table>\n",
       "</div>"
      ],
      "text/plain": [
       "  Brand Model            Color Memory Storage  Rating  Selling Price  \\\n",
       "0  OPPO   A53  Moonlight Black     4    64 GB     4.5          11990   \n",
       "1  OPPO   A53       Mint Cream     4    64 GB     4.5          11990   \n",
       "2  OPPO   A53  Moonlight Black     6   128 GB     4.3          13990   \n",
       "3  OPPO   A53       Mint Cream     6   128 GB     4.3          13990   \n",
       "4  OPPO   A53   Electric Black     4    64 GB     4.5          11990   \n",
       "\n",
       "   Original Price  \n",
       "0           15990  \n",
       "1           15990  \n",
       "2           17990  \n",
       "3           17990  \n",
       "4           15990  "
      ]
     },
     "execution_count": 23,
     "metadata": {},
     "output_type": "execute_result"
    }
   ],
   "source": [
    "df.head()"
   ]
  },
  {
   "cell_type": "code",
   "execution_count": 71,
   "id": "be9d3e39",
   "metadata": {},
   "outputs": [
    {
     "data": {
      "text/html": [
       "<div>\n",
       "<style scoped>\n",
       "    .dataframe tbody tr th:only-of-type {\n",
       "        vertical-align: middle;\n",
       "    }\n",
       "\n",
       "    .dataframe tbody tr th {\n",
       "        vertical-align: top;\n",
       "    }\n",
       "\n",
       "    .dataframe thead th {\n",
       "        text-align: right;\n",
       "    }\n",
       "</style>\n",
       "<table border=\"1\" class=\"dataframe\">\n",
       "  <thead>\n",
       "    <tr style=\"text-align: right;\">\n",
       "      <th></th>\n",
       "      <th>Brand</th>\n",
       "      <th>Model</th>\n",
       "      <th>Color</th>\n",
       "      <th>Memory</th>\n",
       "      <th>Storage</th>\n",
       "      <th>Rating</th>\n",
       "      <th>Selling Price</th>\n",
       "      <th>Original Price</th>\n",
       "    </tr>\n",
       "  </thead>\n",
       "  <tbody>\n",
       "  </tbody>\n",
       "</table>\n",
       "</div>"
      ],
      "text/plain": [
       "Empty DataFrame\n",
       "Columns: [Brand, Model, Color, Memory, Storage, Rating, Selling Price, Original Price]\n",
       "Index: []"
      ]
     },
     "execution_count": 71,
     "metadata": {},
     "output_type": "execute_result"
    }
   ],
   "source": [
    "df.loc[df['Original Price'] == '.']"
   ]
  },
  {
   "cell_type": "code",
   "execution_count": 13,
   "id": "e130f232",
   "metadata": {},
   "outputs": [],
   "source": [
    "df.drop_duplicates(keep=False,inplace=True)"
   ]
  },
  {
   "cell_type": "code",
   "execution_count": 14,
   "id": "b65a8ab2",
   "metadata": {},
   "outputs": [
    {
     "data": {
      "text/plain": [
       "0"
      ]
     },
     "execution_count": 14,
     "metadata": {},
     "output_type": "execute_result"
    }
   ],
   "source": [
    "df.duplicated().sum()"
   ]
  },
  {
   "cell_type": "code",
   "execution_count": 15,
   "id": "69bce9b8",
   "metadata": {},
   "outputs": [
    {
     "data": {
      "text/plain": [
       "Brand               0\n",
       "Model               0\n",
       "Color               0\n",
       "Memory             37\n",
       "Storage            39\n",
       "Rating            125\n",
       "Selling Price       0\n",
       "Original Price      0\n",
       "dtype: int64"
      ]
     },
     "execution_count": 15,
     "metadata": {},
     "output_type": "execute_result"
    }
   ],
   "source": [
    "df.isnull().sum()"
   ]
  },
  {
   "cell_type": "code",
   "execution_count": 16,
   "id": "126067be",
   "metadata": {},
   "outputs": [],
   "source": [
    "df.dropna(axis=0,inplace=True)"
   ]
  },
  {
   "cell_type": "code",
   "execution_count": 17,
   "id": "3c95968a",
   "metadata": {},
   "outputs": [
    {
     "data": {
      "text/plain": [
       "Brand             0\n",
       "Model             0\n",
       "Color             0\n",
       "Memory            0\n",
       "Storage           0\n",
       "Rating            0\n",
       "Selling Price     0\n",
       "Original Price    0\n",
       "dtype: int64"
      ]
     },
     "execution_count": 17,
     "metadata": {},
     "output_type": "execute_result"
    }
   ],
   "source": [
    "df.isnull().sum()"
   ]
  },
  {
   "cell_type": "code",
   "execution_count": 74,
   "id": "30419abf",
   "metadata": {},
   "outputs": [
    {
     "data": {
      "text/plain": [
       "Brand              object\n",
       "Model              object\n",
       "Color              object\n",
       "Memory              int32\n",
       "Storage             int32\n",
       "Rating            float32\n",
       "Original Price      int64\n",
       "dtype: object"
      ]
     },
     "execution_count": 74,
     "metadata": {},
     "output_type": "execute_result"
    }
   ],
   "source": [
    "df.dtypes"
   ]
  },
  {
   "cell_type": "code",
   "execution_count": 19,
   "id": "fd7877b8",
   "metadata": {},
   "outputs": [],
   "source": [
    "df = df[df.Memory != 1.5]"
   ]
  },
  {
   "cell_type": "code",
   "execution_count": 86,
   "id": "9bbde727",
   "metadata": {},
   "outputs": [],
   "source": [
    "df = df[df.Memory != 64]"
   ]
  },
  {
   "cell_type": "code",
   "execution_count": 50,
   "id": "e7a78510",
   "metadata": {},
   "outputs": [],
   "source": [
    "df = df[df.Storage != 10]"
   ]
  },
  {
   "cell_type": "code",
   "execution_count": 58,
   "id": "65b751cd",
   "metadata": {},
   "outputs": [],
   "source": [
    "df = df[df['Brand'] != 'Nokia']"
   ]
  },
  {
   "cell_type": "code",
   "execution_count": 47,
   "id": "099dec9c",
   "metadata": {},
   "outputs": [],
   "source": [
    "df['Rating'] = df['Rating'].astype('float32')"
   ]
  },
  {
   "cell_type": "code",
   "execution_count": 26,
   "id": "5516dc9d",
   "metadata": {},
   "outputs": [],
   "source": [
    "df['Memory'] = df['Memory'].astype('int32')"
   ]
  },
  {
   "cell_type": "code",
   "execution_count": 41,
   "id": "605b97ed",
   "metadata": {},
   "outputs": [],
   "source": [
    "df['Storage'] = df['Storage'].astype('int')"
   ]
  },
  {
   "cell_type": "code",
   "execution_count": 27,
   "id": "12c8ac6f",
   "metadata": {},
   "outputs": [
    {
     "name": "stdout",
     "output_type": "stream",
     "text": [
      "<class 'pandas.core.frame.DataFrame'>\n",
      "Int64Index: 2716 entries, 0 to 3113\n",
      "Data columns (total 8 columns):\n",
      " #   Column          Non-Null Count  Dtype  \n",
      "---  ------          --------------  -----  \n",
      " 0   Brand           2716 non-null   object \n",
      " 1   Model           2716 non-null   object \n",
      " 2   Color           2716 non-null   object \n",
      " 3   Memory          2716 non-null   int32  \n",
      " 4   Storage         2716 non-null   object \n",
      " 5   Rating          2716 non-null   float32\n",
      " 6   Selling Price   2716 non-null   int64  \n",
      " 7   Original Price  2716 non-null   int64  \n",
      "dtypes: float32(1), int32(1), int64(2), object(4)\n",
      "memory usage: 169.8+ KB\n"
     ]
    }
   ],
   "source": [
    "df.info()"
   ]
  },
  {
   "cell_type": "code",
   "execution_count": 87,
   "id": "c634dfcf",
   "metadata": {},
   "outputs": [
    {
     "data": {
      "text/html": [
       "<div>\n",
       "<style scoped>\n",
       "    .dataframe tbody tr th:only-of-type {\n",
       "        vertical-align: middle;\n",
       "    }\n",
       "\n",
       "    .dataframe tbody tr th {\n",
       "        vertical-align: top;\n",
       "    }\n",
       "\n",
       "    .dataframe thead th {\n",
       "        text-align: right;\n",
       "    }\n",
       "</style>\n",
       "<table border=\"1\" class=\"dataframe\">\n",
       "  <thead>\n",
       "    <tr style=\"text-align: right;\">\n",
       "      <th></th>\n",
       "      <th>Memory</th>\n",
       "      <th>Storage</th>\n",
       "      <th>Rating</th>\n",
       "      <th>Original Price</th>\n",
       "    </tr>\n",
       "  </thead>\n",
       "  <tbody>\n",
       "    <tr>\n",
       "      <th>count</th>\n",
       "      <td>2464.000000</td>\n",
       "      <td>2464.000000</td>\n",
       "      <td>2464.000000</td>\n",
       "      <td>2464.000000</td>\n",
       "    </tr>\n",
       "    <tr>\n",
       "      <th>mean</th>\n",
       "      <td>4.372159</td>\n",
       "      <td>87.642857</td>\n",
       "      <td>4.251380</td>\n",
       "      <td>26570.172484</td>\n",
       "    </tr>\n",
       "    <tr>\n",
       "      <th>std</th>\n",
       "      <td>2.347045</td>\n",
       "      <td>92.116023</td>\n",
       "      <td>0.258918</td>\n",
       "      <td>27518.541170</td>\n",
       "    </tr>\n",
       "    <tr>\n",
       "      <th>min</th>\n",
       "      <td>1.000000</td>\n",
       "      <td>2.000000</td>\n",
       "      <td>2.300000</td>\n",
       "      <td>1099.000000</td>\n",
       "    </tr>\n",
       "    <tr>\n",
       "      <th>25%</th>\n",
       "      <td>3.000000</td>\n",
       "      <td>32.000000</td>\n",
       "      <td>4.100000</td>\n",
       "      <td>10999.000000</td>\n",
       "    </tr>\n",
       "    <tr>\n",
       "      <th>50%</th>\n",
       "      <td>4.000000</td>\n",
       "      <td>64.000000</td>\n",
       "      <td>4.300000</td>\n",
       "      <td>16990.000000</td>\n",
       "    </tr>\n",
       "    <tr>\n",
       "      <th>75%</th>\n",
       "      <td>6.000000</td>\n",
       "      <td>128.000000</td>\n",
       "      <td>4.400000</td>\n",
       "      <td>29899.250000</td>\n",
       "    </tr>\n",
       "    <tr>\n",
       "      <th>max</th>\n",
       "      <td>16.000000</td>\n",
       "      <td>1000.000000</td>\n",
       "      <td>5.000000</td>\n",
       "      <td>189999.000000</td>\n",
       "    </tr>\n",
       "  </tbody>\n",
       "</table>\n",
       "</div>"
      ],
      "text/plain": [
       "            Memory      Storage       Rating  Original Price\n",
       "count  2464.000000  2464.000000  2464.000000     2464.000000\n",
       "mean      4.372159    87.642857     4.251380    26570.172484\n",
       "std       2.347045    92.116023     0.258918    27518.541170\n",
       "min       1.000000     2.000000     2.300000     1099.000000\n",
       "25%       3.000000    32.000000     4.100000    10999.000000\n",
       "50%       4.000000    64.000000     4.300000    16990.000000\n",
       "75%       6.000000   128.000000     4.400000    29899.250000\n",
       "max      16.000000  1000.000000     5.000000   189999.000000"
      ]
     },
     "execution_count": 87,
     "metadata": {},
     "output_type": "execute_result"
    }
   ],
   "source": [
    "df.describe()"
   ]
  },
  {
   "cell_type": "markdown",
   "id": "0789ed2d",
   "metadata": {},
   "source": [
    "### EDA (Exploratory Data Analysis)"
   ]
  },
  {
   "cell_type": "code",
   "execution_count": 88,
   "id": "cbe21ed8",
   "metadata": {},
   "outputs": [
    {
     "name": "stderr",
     "output_type": "stream",
     "text": [
      "C:\\Users\\agungadty\\AppData\\Local\\Programs\\Python\\Python310\\lib\\site-packages\\seaborn\\_decorators.py:36: FutureWarning: Pass the following variable as a keyword arg: x. From version 0.12, the only valid positional argument will be `data`, and passing other arguments without an explicit keyword will result in an error or misinterpretation.\n",
      "  warnings.warn(\n"
     ]
    },
    {
     "data": {
      "image/png": "[encoded data removed]",
      "text/plain": [
       "<Figure size 864x288 with 2 Axes>"
      ]
     },
     "metadata": {
      "needs_background": "light"
     },
     "output_type": "display_data"
    }
   ],
   "source": [
    "#Menganalisis memory (RAM)\n",
    "\n",
    "f = plt.figure(figsize=(12,4))\n",
    "f.add_subplot(1,2,1)\n",
    "sns.countplot(df['Memory'])\n",
    "f.add_subplot(1,2,2)\n",
    "plt.boxplot(df['Memory'])\n",
    "plt.show()"
   ]
  },
  {
   "cell_type": "code",
   "execution_count": 65,
   "id": "a7b10514",
   "metadata": {
    "scrolled": true
   },
   "outputs": [
    {
     "name": "stderr",
     "output_type": "stream",
     "text": [
      "C:\\Users\\agungadty\\AppData\\Local\\Programs\\Python\\Python310\\lib\\site-packages\\seaborn\\_decorators.py:36: FutureWarning: Pass the following variable as a keyword arg: x. From version 0.12, the only valid positional argument will be `data`, and passing other arguments without an explicit keyword will result in an error or misinterpretation.\n",
      "  warnings.warn(\n"
     ]
    },
    {
     "data": {
      "image/png": "[encoded data removed]",
      "text/plain": [
       "<Figure size 864x288 with 2 Axes>"
      ]
     },
     "metadata": {
      "needs_background": "light"
     },
     "output_type": "display_data"
    }
   ],
   "source": [
    "#Menganalisis storage\n",
    "\n",
    "f = plt.figure(figsize=(12,4))\n",
    "f.add_subplot(1,2,1)\n",
    "sns.countplot(df['Storage'])\n",
    "f.add_subplot(1,2,2)\n",
    "plt.boxplot(df['Storage'])\n",
    "plt.show()"
   ]
  },
  {
   "cell_type": "code",
   "execution_count": 66,
   "id": "1b96e74f",
   "metadata": {},
   "outputs": [
    {
     "name": "stderr",
     "output_type": "stream",
     "text": [
      "C:\\Users\\agungadty\\AppData\\Local\\Programs\\Python\\Python310\\lib\\site-packages\\seaborn\\_decorators.py:36: FutureWarning: Pass the following variable as a keyword arg: x. From version 0.12, the only valid positional argument will be `data`, and passing other arguments without an explicit keyword will result in an error or misinterpretation.\n",
      "  warnings.warn(\n"
     ]
    },
    {
     "data": {
      "image/png": "[encoded data removed]",
      "text/plain": [
       "<Figure size 864x288 with 2 Axes>"
      ]
     },
     "metadata": {
      "needs_background": "light"
     },
     "output_type": "display_data"
    }
   ],
   "source": [
    "#Menganalisis rating\n",
    "\n",
    "f = plt.figure(figsize=(12,4))\n",
    "f.add_subplot(1,2,1)\n",
    "sns.countplot(df['Rating'])\n",
    "f.add_subplot(1,2,2)\n",
    "plt.boxplot(df['Rating'])\n",
    "plt.show()"
   ]
  },
  {
   "cell_type": "code",
   "execution_count": 54,
   "id": "e00aaccd",
   "metadata": {},
   "outputs": [
    {
     "name": "stderr",
     "output_type": "stream",
     "text": [
      "C:\\Users\\agungadty\\AppData\\Local\\Programs\\Python\\Python310\\lib\\site-packages\\seaborn\\axisgrid.py:2076: UserWarning: The `size` parameter has been renamed to `height`; please update your code.\n",
      "  warnings.warn(msg, UserWarning)\n"
     ]
    },
    {
     "data": {
      "text/plain": [
       "<seaborn.axisgrid.PairGrid at 0x1fe34dcfc40>"
      ]
     },
     "execution_count": 54,
     "metadata": {},
     "output_type": "execute_result"
    },
    {
     "data": {
      "text/plain": [
       "<Figure size 720x576 with 0 Axes>"
      ]
     },
     "metadata": {},
     "output_type": "display_data"
    },
    {
     "data": {
      "image/png": "[encoded data removed]",
      "text/plain": [
       "<Figure size 810x360 with 3 Axes>"
      ]
     },
     "metadata": {
      "needs_background": "light"
     },
     "output_type": "display_data"
    }
   ],
   "source": [
    "#Menganalisis antara independent variable dan dependent variable\n",
    "\n",
    "plt.figure(figsize=(10,8))\n",
    "sns.pairplot(data=df, x_vars=['Memory', 'Storage', 'Rating'], y_vars=['Original Price'], size=5, aspect=0.75)"
   ]
  },
  {
   "cell_type": "code",
   "execution_count": 80,
   "id": "7ce09e2a",
   "metadata": {},
   "outputs": [
    {
     "name": "stderr",
     "output_type": "stream",
     "text": [
      "C:\\Users\\agungadty\\AppData\\Local\\Temp\\ipykernel_5312\\282295218.py:3: FutureWarning: this method is deprecated in favour of `Styler.format(precision=..)`\n",
      "  df.corr().style.background_gradient().set_precision(2)\n"
     ]
    },
    {
     "data": {
      "text/html": [
       "<style type=\"text/css\">\n",
       "#T_5a570_row0_col0, #T_5a570_row1_col1, #T_5a570_row2_col2, #T_5a570_row3_col3 {\n",
       "  background-color: #023858;\n",
       "  color: #f1f1f1;\n",
       "}\n",
       "#T_5a570_row0_col1, #T_5a570_row0_col2, #T_5a570_row0_col3, #T_5a570_row3_col0 {\n",
       "  background-color: #fff7fb;\n",
       "  color: #000000;\n",
       "}\n",
       "#T_5a570_row1_col0 {\n",
       "  background-color: #dddbec;\n",
       "  color: #000000;\n",
       "}\n",
       "#T_5a570_row1_col2 {\n",
       "  background-color: #b9c6e0;\n",
       "  color: #000000;\n",
       "}\n",
       "#T_5a570_row1_col3 {\n",
       "  background-color: #328dbf;\n",
       "  color: #f1f1f1;\n",
       "}\n",
       "#T_5a570_row2_col0 {\n",
       "  background-color: #fef6fa;\n",
       "  color: #000000;\n",
       "}\n",
       "#T_5a570_row2_col1 {\n",
       "  background-color: #e4e1ef;\n",
       "  color: #000000;\n",
       "}\n",
       "#T_5a570_row2_col3 {\n",
       "  background-color: #bcc7e1;\n",
       "  color: #000000;\n",
       "}\n",
       "#T_5a570_row3_col1 {\n",
       "  background-color: #5c9fc9;\n",
       "  color: #f1f1f1;\n",
       "}\n",
       "#T_5a570_row3_col2 {\n",
       "  background-color: #bfc9e1;\n",
       "  color: #000000;\n",
       "}\n",
       "</style>\n",
       "<table id=\"T_5a570\">\n",
       "  <thead>\n",
       "    <tr>\n",
       "      <th class=\"blank level0\" >&nbsp;</th>\n",
       "      <th id=\"T_5a570_level0_col0\" class=\"col_heading level0 col0\" >Memory</th>\n",
       "      <th id=\"T_5a570_level0_col1\" class=\"col_heading level0 col1\" >Storage</th>\n",
       "      <th id=\"T_5a570_level0_col2\" class=\"col_heading level0 col2\" >Rating</th>\n",
       "      <th id=\"T_5a570_level0_col3\" class=\"col_heading level0 col3\" >Original Price</th>\n",
       "    </tr>\n",
       "  </thead>\n",
       "  <tbody>\n",
       "    <tr>\n",
       "      <th id=\"T_5a570_level0_row0\" class=\"row_heading level0 row0\" >Memory</th>\n",
       "      <td id=\"T_5a570_row0_col0\" class=\"data row0 col0\" >1.00</td>\n",
       "      <td id=\"T_5a570_row0_col1\" class=\"data row0 col1\" >0.30</td>\n",
       "      <td id=\"T_5a570_row0_col2\" class=\"data row0 col2\" >0.14</td>\n",
       "      <td id=\"T_5a570_row0_col3\" class=\"data row0 col3\" >0.14</td>\n",
       "    </tr>\n",
       "    <tr>\n",
       "      <th id=\"T_5a570_level0_row1\" class=\"row_heading level0 row1\" >Storage</th>\n",
       "      <td id=\"T_5a570_row1_col0\" class=\"data row1 col0\" >0.30</td>\n",
       "      <td id=\"T_5a570_row1_col1\" class=\"data row1 col1\" >1.00</td>\n",
       "      <td id=\"T_5a570_row1_col2\" class=\"data row1 col2\" >0.42</td>\n",
       "      <td id=\"T_5a570_row1_col3\" class=\"data row1 col3\" >0.68</td>\n",
       "    </tr>\n",
       "    <tr>\n",
       "      <th id=\"T_5a570_level0_row2\" class=\"row_heading level0 row2\" >Rating</th>\n",
       "      <td id=\"T_5a570_row2_col0\" class=\"data row2 col0\" >0.14</td>\n",
       "      <td id=\"T_5a570_row2_col1\" class=\"data row2 col1\" >0.42</td>\n",
       "      <td id=\"T_5a570_row2_col2\" class=\"data row2 col2\" >1.00</td>\n",
       "      <td id=\"T_5a570_row2_col3\" class=\"data row2 col3\" >0.40</td>\n",
       "    </tr>\n",
       "    <tr>\n",
       "      <th id=\"T_5a570_level0_row3\" class=\"row_heading level0 row3\" >Original Price</th>\n",
       "      <td id=\"T_5a570_row3_col0\" class=\"data row3 col0\" >0.14</td>\n",
       "      <td id=\"T_5a570_row3_col1\" class=\"data row3 col1\" >0.68</td>\n",
       "      <td id=\"T_5a570_row3_col2\" class=\"data row3 col2\" >0.40</td>\n",
       "      <td id=\"T_5a570_row3_col3\" class=\"data row3 col3\" >1.00</td>\n",
       "    </tr>\n",
       "  </tbody>\n",
       "</table>\n"
      ],
      "text/plain": [
       "<pandas.io.formats.style.Styler at 0x1fe3b6d34f0>"
      ]
     },
     "execution_count": 80,
     "metadata": {},
     "output_type": "execute_result"
    }
   ],
   "source": [
    "#Mengetahui nilai korelasi dari independent variable dan dependent variable\n",
    "\n",
    "df.corr().style.background_gradient().set_precision(2)"
   ]
  },
  {
   "cell_type": "code",
   "execution_count": 73,
   "id": "3e46a015",
   "metadata": {},
   "outputs": [],
   "source": [
    "del df['Selling Price']"
   ]
  },
  {
   "cell_type": "code",
   "execution_count": 75,
   "id": "cb557b06",
   "metadata": {},
   "outputs": [],
   "source": [
    "del df['Brand']"
   ]
  },
  {
   "cell_type": "code",
   "execution_count": 76,
   "id": "7b30ce81",
   "metadata": {},
   "outputs": [],
   "source": [
    "del df['Color']"
   ]
  },
  {
   "cell_type": "code",
   "execution_count": 77,
   "id": "e25726e0",
   "metadata": {},
   "outputs": [],
   "source": [
    "del df['Model']"
   ]
  },
  {
   "cell_type": "markdown",
   "id": "2a16cdfe",
   "metadata": {},
   "source": [
    "### Modeling Data"
   ]
  },
  {
   "cell_type": "code",
   "execution_count": 78,
   "id": "649e6c30",
   "metadata": {},
   "outputs": [
    {
     "name": "stdout",
     "output_type": "stream",
     "text": [
      "[ -523.63633755   194.28092691 15293.28763271]\n",
      "-53151.98590137016\n"
     ]
    }
   ],
   "source": [
    "#Membuat variable\n",
    "x = df.drop(columns='Original Price')\n",
    "y = df['Original Price']\n",
    "\n",
    "#split data menjadi training and testing dengan porsi 80:20.\n",
    "x_train, x_test, y_train, y_test = train_test_split(x, y, test_size=0.2, random_state=4)\n",
    "\n",
    "#membuay object linear regresi.\n",
    "lin_reg = LinearRegression()\n",
    "\n",
    "#train the model menggunakan training data yang sudah displit.\n",
    "lin_reg.fit(x_train, y_train)\n",
    "\n",
    "#mencari tau nilai slope/koefisien (m) dan intercept (b).\n",
    "print(lin_reg.coef_)\n",
    "print(lin_reg.intercept_)"
   ]
  },
  {
   "cell_type": "code",
   "execution_count": 79,
   "id": "9b9b79e0",
   "metadata": {},
   "outputs": [
    {
     "data": {
      "text/plain": [
       "0.5857981712404858"
      ]
     },
     "execution_count": 79,
     "metadata": {},
     "output_type": "execute_result"
    }
   ],
   "source": [
    "lin_reg.score(x_test, y_test)"
   ]
  },
  {
   "cell_type": "markdown",
   "id": "af05f366",
   "metadata": {},
   "source": [
    "### Test prediksi harga ponsel"
   ]
  },
  {
   "cell_type": "code",
   "execution_count": 81,
   "id": "a4cd9369",
   "metadata": {},
   "outputs": [
    {
     "name": "stderr",
     "output_type": "stream",
     "text": [
      "C:\\Users\\agungadty\\AppData\\Local\\Programs\\Python\\Python310\\lib\\site-packages\\sklearn\\base.py:450: UserWarning: X does not have valid feature names, but LinearRegression was fitted with feature names\n",
      "  warnings.warn(\n"
     ]
    },
    {
     "data": {
      "text/plain": [
       "array([26007.24241793])"
      ]
     },
     "execution_count": 81,
     "metadata": {},
     "output_type": "execute_result"
    }
   ],
   "source": [
    "lin_reg.predict([[4,64,4.5]])"
   ]
  },
  {
   "cell_type": "markdown",
   "id": "2c747b33",
   "metadata": {},
   "source": [
    "## Selesai"
   ]
  },
  {
   "cell_type": "code",
   "execution_count": 104,
   "id": "2b2463e9",
   "metadata": {},
   "outputs": [
    {
     "data": {
      "text/plain": [
       "<AxesSubplot:>"
      ]
     },
     "execution_count": 104,
     "metadata": {},
     "output_type": "execute_result"
    },
    {
     "data": {
      "image/png": "[encoded data removed]",
      "text/plain": [
       "<Figure size 432x288 with 1 Axes>"
      ]
     },
     "metadata": {
      "needs_background": "light"
     },
     "output_type": "display_data"
    }
   ],
   "source": [
    "# menganalisis brand ponsel\n",
    "df['Brand'].value_counts().plot(kind='bar')"
   ]
  },
  {
   "cell_type": "code",
   "execution_count": 105,
   "id": "2a8bc365",
   "metadata": {},
   "outputs": [
    {
     "data": {
      "image/png": "[encoded data removed]",
      "text/plain": [
       "<Figure size 432x288 with 1 Axes>"
      ]
     },
     "metadata": {
      "needs_background": "light"
     },
     "output_type": "display_data"
    }
   ],
   "source": [
    "# menganalisis harga rata-rata dari setiap brand\n",
    "sns.barplot(x=df['Brand'],y=df['Original Price'])\n",
    "plt.xticks(rotation='vertical')\n",
    "plt.show()"
   ]
  },
  {
   "cell_type": "code",
   "execution_count": 107,
   "id": "e0cd93c6",
   "metadata": {},
   "outputs": [
    {
     "data": {
      "image/png": "[encoded data removed]",
      "text/plain": [
       "<Figure size 432x288 with 1 Axes>"
      ]
     },
     "metadata": {
      "needs_background": "light"
     },
     "output_type": "display_data"
    }
   ],
   "source": [
    "# melihat nilai rata-rata dari setiap type ponsel\n",
    "sns.barplot(x=df['Model'],y=df['Original Price'])\n",
    "plt.xticks(rotation='vertical')\n",
    "plt.show()"
   ]
  },
  {
   "cell_type": "code",
   "execution_count": 112,
   "id": "a5d08052",
   "metadata": {},
   "outputs": [
    {
     "name": "stderr",
     "output_type": "stream",
     "text": [
      "C:\\Users\\agungadty\\AppData\\Local\\Programs\\Python\\Python310\\lib\\site-packages\\seaborn\\distributions.py:2619: FutureWarning: `distplot` is a deprecated function and will be removed in a future version. Please adapt your code to use either `displot` (a figure-level function with similar flexibility) or `histplot` (an axes-level function for histograms).\n",
      "  warnings.warn(msg, FutureWarning)\n"
     ]
    },
    {
     "data": {
      "text/plain": [
       "<AxesSubplot:xlabel='Rating', ylabel='Density'>"
      ]
     },
     "execution_count": 112,
     "metadata": {},
     "output_type": "execute_result"
    },
    {
     "data": {
      "image/png": "[encoded data removed]",
      "text/plain": [
       "<Figure size 432x288 with 1 Axes>"
      ]
     },
     "metadata": {
      "needs_background": "light"
     },
     "output_type": "display_data"
    }
   ],
   "source": [
    "# menganalisis berdasarkan rating\n",
    "sns.distplot(df['Rating'])"
   ]
  },
  {
   "cell_type": "code",
   "execution_count": 113,
   "id": "c07830f5",
   "metadata": {},
   "outputs": [
    {
     "data": {
      "text/plain": [
       "<AxesSubplot:xlabel='Rating', ylabel='Original Price'>"
      ]
     },
     "execution_count": 113,
     "metadata": {},
     "output_type": "execute_result"
    },
    {
     "data": {
      "image/png": "[encoded data removed]",
      "text/plain": [
       "<Figure size 432x288 with 1 Axes>"
      ]
     },
     "metadata": {
      "needs_background": "light"
     },
     "output_type": "display_data"
    }
   ],
   "source": [
    "# menganalisis harga ponsel berdasarkan rating\n",
    "sns.scatterplot(x=df['Rating'],y=df['Original Price'])"
   ]
  },
  {
   "cell_type": "code",
   "execution_count": 114,
   "id": "70b7d39c",
   "metadata": {},
   "outputs": [
    {
     "data": {
      "text/html": [
       "<div>\n",
       "<style scoped>\n",
       "    .dataframe tbody tr th:only-of-type {\n",
       "        vertical-align: middle;\n",
       "    }\n",
       "\n",
       "    .dataframe tbody tr th {\n",
       "        vertical-align: top;\n",
       "    }\n",
       "\n",
       "    .dataframe thead th {\n",
       "        text-align: right;\n",
       "    }\n",
       "</style>\n",
       "<table border=\"1\" class=\"dataframe\">\n",
       "  <thead>\n",
       "    <tr style=\"text-align: right;\">\n",
       "      <th></th>\n",
       "      <th>Brand</th>\n",
       "      <th>Model</th>\n",
       "      <th>Color</th>\n",
       "      <th>Memory</th>\n",
       "      <th>Storage</th>\n",
       "      <th>Rating</th>\n",
       "      <th>Selling Price</th>\n",
       "      <th>Original Price</th>\n",
       "    </tr>\n",
       "  </thead>\n",
       "  <tbody>\n",
       "    <tr>\n",
       "      <th>2826</th>\n",
       "      <td>vivo</td>\n",
       "      <td>Y69</td>\n",
       "      <td>Matte Black</td>\n",
       "      <td>3</td>\n",
       "      <td>32 GB</td>\n",
       "      <td>4.3</td>\n",
       "      <td>13990</td>\n",
       "      <td>13990</td>\n",
       "    </tr>\n",
       "    <tr>\n",
       "      <th>1767</th>\n",
       "      <td>SAMSUNG</td>\n",
       "      <td>Galaxy A20s</td>\n",
       "      <td>Blue</td>\n",
       "      <td>3</td>\n",
       "      <td>32 GB</td>\n",
       "      <td>4.3</td>\n",
       "      <td>11599</td>\n",
       "      <td>12900</td>\n",
       "    </tr>\n",
       "    <tr>\n",
       "      <th>2819</th>\n",
       "      <td>vivo</td>\n",
       "      <td>V11 Pro</td>\n",
       "      <td>Dazzling Gold</td>\n",
       "      <td>6</td>\n",
       "      <td>64 GB</td>\n",
       "      <td>4.5</td>\n",
       "      <td>25990</td>\n",
       "      <td>25990</td>\n",
       "    </tr>\n",
       "    <tr>\n",
       "      <th>2421</th>\n",
       "      <td>POCO</td>\n",
       "      <td>C3</td>\n",
       "      <td>Matte Black</td>\n",
       "      <td>4</td>\n",
       "      <td>64 GB</td>\n",
       "      <td>4.3</td>\n",
       "      <td>8999</td>\n",
       "      <td>10999</td>\n",
       "    </tr>\n",
       "    <tr>\n",
       "      <th>1841</th>\n",
       "      <td>SAMSUNG</td>\n",
       "      <td>Galaxy Note 5</td>\n",
       "      <td>black sapphire</td>\n",
       "      <td>4</td>\n",
       "      <td>32 GB</td>\n",
       "      <td>3.9</td>\n",
       "      <td>46900</td>\n",
       "      <td>46900</td>\n",
       "    </tr>\n",
       "  </tbody>\n",
       "</table>\n",
       "</div>"
      ],
      "text/plain": [
       "        Brand           Model           Color  Memory Storage  Rating  \\\n",
       "2826     vivo             Y69     Matte Black       3   32 GB     4.3   \n",
       "1767  SAMSUNG    Galaxy A20s             Blue       3   32 GB     4.3   \n",
       "2819     vivo         V11 Pro   Dazzling Gold       6   64 GB     4.5   \n",
       "2421     POCO             C3      Matte Black       4   64 GB     4.3   \n",
       "1841  SAMSUNG  Galaxy Note 5   black sapphire       4   32 GB     3.9   \n",
       "\n",
       "      Selling Price  Original Price  \n",
       "2826          13990           13990  \n",
       "1767          11599           12900  \n",
       "2819          25990           25990  \n",
       "2421           8999           10999  \n",
       "1841          46900           46900  "
      ]
     },
     "execution_count": 114,
     "metadata": {},
     "output_type": "execute_result"
    }
   ],
   "source": [
    "df.sample(5)"
   ]
  },
  {
   "cell_type": "code",
   "execution_count": 130,
   "id": "9c042f43",
   "metadata": {},
   "outputs": [
    {
     "data": {
      "image/png": "[encoded data removed]",
      "text/plain": [
       "<Figure size 432x288 with 1 Axes>"
      ]
     },
     "metadata": {
      "needs_background": "light"
     },
     "output_type": "display_data"
    }
   ],
   "source": [
    "sns.barplot(x=df['Memory'],y=df['Original Price'])\n",
    "plt.xticks(rotation='vertical')\n",
    "plt.show()"
   ]
  },
  {
   "cell_type": "code",
   "execution_count": 120,
   "id": "61ef2899",
   "metadata": {},
   "outputs": [],
   "source": [
    "df = df[df.Memory != 30]"
   ]
  },
  {
   "cell_type": "code",
   "execution_count": 121,
   "id": "1505007b",
   "metadata": {},
   "outputs": [],
   "source": [
    "df = df[df.Memory != 32]"
   ]
  },
  {
   "cell_type": "code",
   "execution_count": 122,
   "id": "5532535e",
   "metadata": {},
   "outputs": [],
   "source": [
    "df = df[df.Memory != 46]"
   ]
  },
  {
   "cell_type": "code",
   "execution_count": 123,
   "id": "ea244895",
   "metadata": {},
   "outputs": [],
   "source": [
    "df = df[df.Memory != 64]"
   ]
  },
  {
   "cell_type": "code",
   "execution_count": 125,
   "id": "a3036119",
   "metadata": {},
   "outputs": [],
   "source": [
    "df = df[df.Memory != 100]"
   ]
  },
  {
   "cell_type": "code",
   "execution_count": 126,
   "id": "94811bfb",
   "metadata": {},
   "outputs": [],
   "source": [
    "df = df[df.Memory != 128]"
   ]
  },
  {
   "cell_type": "code",
   "execution_count": 127,
   "id": "f65d5b50",
   "metadata": {},
   "outputs": [],
   "source": [
    "df = df[df.Memory != 153]"
   ]
  },
  {
   "cell_type": "code",
   "execution_count": 128,
   "id": "55f056e1",
   "metadata": {},
   "outputs": [],
   "source": [
    "df = df[df.Memory != 512]"
   ]
  },
  {
   "cell_type": "code",
   "execution_count": 129,
   "id": "928a523a",
   "metadata": {},
   "outputs": [],
   "source": [
    "df = df[df.Memory != 768]"
   ]
  },
  {
   "cell_type": "code",
   "execution_count": 131,
   "id": "d0d89a50",
   "metadata": {},
   "outputs": [
    {
     "data": {
      "text/plain": [
       "Memory            0.333705\n",
       "Rating            0.409462\n",
       "Selling Price     0.979949\n",
       "Original Price    1.000000\n",
       "Name: Original Price, dtype: float64"
      ]
     },
     "execution_count": 131,
     "metadata": {},
     "output_type": "execute_result"
    }
   ],
   "source": [
    "# korelasi dengan harga\n",
    "df.corr()['Original Price']"
   ]
  },
  {
   "cell_type": "code",
   "execution_count": 132,
   "id": "290b8722",
   "metadata": {},
   "outputs": [
    {
     "data": {
      "text/html": [
       "<div>\n",
       "<style scoped>\n",
       "    .dataframe tbody tr th:only-of-type {\n",
       "        vertical-align: middle;\n",
       "    }\n",
       "\n",
       "    .dataframe tbody tr th {\n",
       "        vertical-align: top;\n",
       "    }\n",
       "\n",
       "    .dataframe thead th {\n",
       "        text-align: right;\n",
       "    }\n",
       "</style>\n",
       "<table border=\"1\" class=\"dataframe\">\n",
       "  <thead>\n",
       "    <tr style=\"text-align: right;\">\n",
       "      <th></th>\n",
       "      <th>Brand</th>\n",
       "      <th>Model</th>\n",
       "      <th>Color</th>\n",
       "      <th>Memory</th>\n",
       "      <th>Storage</th>\n",
       "      <th>Rating</th>\n",
       "      <th>Selling Price</th>\n",
       "      <th>Original Price</th>\n",
       "    </tr>\n",
       "  </thead>\n",
       "  <tbody>\n",
       "    <tr>\n",
       "      <th>1517</th>\n",
       "      <td>SAMSUNG</td>\n",
       "      <td>Galaxy M31</td>\n",
       "      <td>Space Black</td>\n",
       "      <td>6</td>\n",
       "      <td>64 GB</td>\n",
       "      <td>4.3</td>\n",
       "      <td>16299</td>\n",
       "      <td>16299</td>\n",
       "    </tr>\n",
       "    <tr>\n",
       "      <th>2663</th>\n",
       "      <td>HTC</td>\n",
       "      <td>Desire 326G DS</td>\n",
       "      <td>White Birch</td>\n",
       "      <td>1</td>\n",
       "      <td>8 GB</td>\n",
       "      <td>3.7</td>\n",
       "      <td>9590</td>\n",
       "      <td>9590</td>\n",
       "    </tr>\n",
       "    <tr>\n",
       "      <th>2915</th>\n",
       "      <td>Infinix</td>\n",
       "      <td>Note 7</td>\n",
       "      <td>Forest Green</td>\n",
       "      <td>4</td>\n",
       "      <td>64 GB</td>\n",
       "      <td>4.3</td>\n",
       "      <td>14999</td>\n",
       "      <td>14999</td>\n",
       "    </tr>\n",
       "    <tr>\n",
       "      <th>1577</th>\n",
       "      <td>SAMSUNG</td>\n",
       "      <td>Galaxy Note 20</td>\n",
       "      <td>Mystic Bronze</td>\n",
       "      <td>8</td>\n",
       "      <td>256 GB</td>\n",
       "      <td>4.3</td>\n",
       "      <td>77999</td>\n",
       "      <td>86000</td>\n",
       "    </tr>\n",
       "    <tr>\n",
       "      <th>2072</th>\n",
       "      <td>SAMSUNG</td>\n",
       "      <td>Galaxy A6</td>\n",
       "      <td>Black</td>\n",
       "      <td>4</td>\n",
       "      <td>32 GB</td>\n",
       "      <td>4.3</td>\n",
       "      <td>12499</td>\n",
       "      <td>22990</td>\n",
       "    </tr>\n",
       "    <tr>\n",
       "      <th>789</th>\n",
       "      <td>GIONEE</td>\n",
       "      <td>S11 Lite</td>\n",
       "      <td>Dark Blue</td>\n",
       "      <td>4</td>\n",
       "      <td>32 GB</td>\n",
       "      <td>4.0</td>\n",
       "      <td>8750</td>\n",
       "      <td>8750</td>\n",
       "    </tr>\n",
       "  </tbody>\n",
       "</table>\n",
       "</div>"
      ],
      "text/plain": [
       "        Brand            Model          Color  Memory Storage  Rating  \\\n",
       "1517  SAMSUNG      Galaxy M31     Space Black       6   64 GB     4.3   \n",
       "2663      HTC   Desire 326G DS    White Birch       1    8 GB     3.7   \n",
       "2915  Infinix           Note 7   Forest Green       4   64 GB     4.3   \n",
       "1577  SAMSUNG  Galaxy Note 20   Mystic Bronze       8  256 GB     4.3   \n",
       "2072  SAMSUNG       Galaxy A6           Black       4   32 GB     4.3   \n",
       "789    GIONEE        S11 Lite       Dark Blue       4   32 GB     4.0   \n",
       "\n",
       "      Selling Price  Original Price  \n",
       "1517          16299           16299  \n",
       "2663           9590            9590  \n",
       "2915          14999           14999  \n",
       "1577          77999           86000  \n",
       "2072          12499           22990  \n",
       "789            8750            8750  "
      ]
     },
     "execution_count": 132,
     "metadata": {},
     "output_type": "execute_result"
    }
   ],
   "source": [
    "df.sample(6)"
   ]
  },
  {
   "cell_type": "code",
   "execution_count": 134,
   "id": "4eb1846f",
   "metadata": {},
   "outputs": [
    {
     "data": {
      "text/plain": [
       "<AxesSubplot:>"
      ]
     },
     "execution_count": 134,
     "metadata": {},
     "output_type": "execute_result"
    },
    {
     "data": {
      "image/png": "[encoded data removed]",
      "text/plain": [
       "<Figure size 432x288 with 2 Axes>"
      ]
     },
     "metadata": {
      "needs_background": "light"
     },
     "output_type": "display_data"
    }
   ],
   "source": [
    "sns.heatmap(df.corr())"
   ]
  },
  {
   "cell_type": "code",
   "execution_count": 135,
   "id": "94325b8b",
   "metadata": {},
   "outputs": [
    {
     "name": "stderr",
     "output_type": "stream",
     "text": [
      "C:\\Users\\agungadty\\AppData\\Local\\Programs\\Python\\Python310\\lib\\site-packages\\seaborn\\distributions.py:2619: FutureWarning: `distplot` is a deprecated function and will be removed in a future version. Please adapt your code to use either `displot` (a figure-level function with similar flexibility) or `histplot` (an axes-level function for histograms).\n",
      "  warnings.warn(msg, FutureWarning)\n"
     ]
    },
    {
     "data": {
      "text/plain": [
       "<AxesSubplot:xlabel='Original Price', ylabel='Density'>"
      ]
     },
     "execution_count": 135,
     "metadata": {},
     "output_type": "execute_result"
    },
    {
     "data": {
      "image/png": "[encoded data removed]",
      "text/plain": [
       "<Figure size 432x288 with 1 Axes>"
      ]
     },
     "metadata": {
      "needs_background": "light"
     },
     "output_type": "display_data"
    }
   ],
   "source": [
    "sns.distplot(np.log(df['Original Price']))"
   ]
  },
  {
   "cell_type": "markdown",
   "id": "2644227f",
   "metadata": {},
   "source": [
    "### Spliting data menjadi data test dan data training"
   ]
  },
  {
   "cell_type": "code",
   "execution_count": 137,
   "id": "9163fbda",
   "metadata": {},
   "outputs": [
    {
     "ename": "ModuleNotFoundError",
     "evalue": "No module named 'sklearn'",
     "output_type": "error",
     "traceback": [
      "\u001b[1;31m---------------------------------------------------------------------------\u001b[0m",
      "\u001b[1;31mModuleNotFoundError\u001b[0m                       Traceback (most recent call last)",
      "Input \u001b[1;32mIn [137]\u001b[0m, in \u001b[0;36m<cell line: 1>\u001b[1;34m()\u001b[0m\n\u001b[1;32m----> 1\u001b[0m \u001b[38;5;28;01mfrom\u001b[39;00m \u001b[38;5;21;01msklearn\u001b[39;00m\u001b[38;5;21;01m.\u001b[39;00m\u001b[38;5;21;01mmodel_selection\u001b[39;00m \u001b[38;5;28;01mimport\u001b[39;00m train_test_split\n\u001b[0;32m      2\u001b[0m X_train,X_test,y_train,y_test \u001b[38;5;241m=\u001b[39m train_test_split(X,y,test_size\u001b[38;5;241m=\u001b[39m\u001b[38;5;241m0.15\u001b[39m,random_state\u001b[38;5;241m=\u001b[39m\u001b[38;5;241m2\u001b[39m)\n",
      "\u001b[1;31mModuleNotFoundError\u001b[0m: No module named 'sklearn'"
     ]
    }
   ],
   "source": [
    "from sklearn.model_selection import train_test_split\n",
    "X_train,X_test,y_train,y_test = train_test_split(X,y,test_size=0.15,random_state=2)"
   ]
  },
  {
   "cell_type": "code",
   "execution_count": 1,
   "id": "9de6b277",
   "metadata": {},
   "outputs": [
    {
     "ename": "NameError",
     "evalue": "name 'df' is not defined",
     "output_type": "error",
     "traceback": [
      "\u001b[1;31m---------------------------------------------------------------------------\u001b[0m",
      "\u001b[1;31mNameError\u001b[0m                                 Traceback (most recent call last)",
      "Input \u001b[1;32mIn [1]\u001b[0m, in \u001b[0;36m<cell line: 1>\u001b[1;34m()\u001b[0m\n\u001b[1;32m----> 1\u001b[0m \u001b[43mdf\u001b[49m\u001b[38;5;241m.\u001b[39mdiscribe()\n",
      "\u001b[1;31mNameError\u001b[0m: name 'df' is not defined"
     ]
    }
   ],
   "source": [
    "df.discribe()"
   ]
  },
  {
   "cell_type": "code",
   "execution_count": null,
   "id": "75e0c9b9",
   "metadata": {},
   "outputs": [],
   "source": []
  },
  {
   "cell_type": "code",
   "execution_count": null,
   "id": "46016a9d",
   "metadata": {},
   "outputs": [],
   "source": []
  }
 ],
 "metadata": {
  "kernelspec": {
   "display_name": "Python 3 (ipykernel)",
   "language": "python",
   "name": "python3"
  },
  "language_info": {
   "codemirror_mode": {
    "name": "ipython",
    "version": 3
   },
   "file_extension": ".py",
   "mimetype": "text/x-python",
   "name": "python",
   "nbconvert_exporter": "python",
   "pygments_lexer": "ipython3",
   "version": "3.10.4"
  }
 },
 "nbformat": 4,
 "nbformat_minor": 5
}
